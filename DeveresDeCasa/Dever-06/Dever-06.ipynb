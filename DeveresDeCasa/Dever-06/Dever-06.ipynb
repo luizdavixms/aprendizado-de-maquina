{
  "nbformat": 4,
  "nbformat_minor": 0,
  "metadata": {
    "colab": {
      "provenance": [],
      "authorship_tag": "ABX9TyOgVkHC4X3MxWP/f8CEhJfW",
      "include_colab_link": true
    },
    "kernelspec": {
      "name": "python3",
      "display_name": "Python 3"
    },
    "language_info": {
      "name": "python"
    }
  },
  "cells": [
    {
      "cell_type": "markdown",
      "metadata": {
        "id": "view-in-github",
        "colab_type": "text"
      },
      "source": [
        "<a href=\"https://colab.research.google.com/github/luizdavixms/aprendizado-de-maquina/blob/main/DeveresDeCasa/Dever-06/Dever-06.ipynb\" target=\"_parent\"><img src=\"https://colab.research.google.com/assets/colab-badge.svg\" alt=\"Open In Colab\"/></a>"
      ]
    },
    {
      "cell_type": "code",
      "execution_count": 2,
      "metadata": {
        "colab": {
          "base_uri": "https://localhost:8080/"
        },
        "id": "94vLJzZrsBZa",
        "outputId": "f042f89d-033c-424a-a677-15a20df30d53"
      },
      "outputs": [
        {
          "output_type": "stream",
          "name": "stdout",
          "text": [
            "A flor 1 provavelmente é uma setosa\n",
            "A flor 2 provavelmente é uma versicolor\n"
          ]
        }
      ],
      "source": [
        "from sklearn.datasets import load_iris\n",
        "from sklearn.neighbors import KNeighborsClassifier\n",
        "\n",
        "# Carrega os dados e treina o modelo\n",
        "iris = load_iris()\n",
        "modelo = KNeighborsClassifier(n_neighbors=3)\n",
        "modelo.fit(iris.data, iris.target)\n",
        "\n",
        "# Amostras de teste (flores fictícias)\n",
        "flores = [\n",
        "    [5.1, 3.5, 1.4, 0.2],  # Provavelmente Setosa\n",
        "    [6.7, 3.1, 4.7, 1.5]   # Provavelmente Versicolor\n",
        "]\n",
        "\n",
        "# Faz a predição\n",
        "predicoes = modelo.predict(flores)\n",
        "\n",
        "# Mostra o resultado\n",
        "for i, pred in enumerate(predicoes, 1):\n",
        "    print(f\"A flor {i} provavelmente é uma {iris.target_names[pred]}\")\n"
      ]
    }
  ]
}