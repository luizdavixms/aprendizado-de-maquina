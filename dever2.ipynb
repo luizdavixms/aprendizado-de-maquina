{
  "nbformat": 4,
  "nbformat_minor": 0,
  "metadata": {
    "colab": {
      "provenance": [],
      "authorship_tag": "ABX9TyNMM1ZTFSopy01IYt1ESlFD",
      "include_colab_link": true
    },
    "kernelspec": {
      "name": "python3",
      "display_name": "Python 3"
    },
    "language_info": {
      "name": "python"
    }
  },
  "cells": [
    {
      "cell_type": "markdown",
      "metadata": {
        "id": "view-in-github",
        "colab_type": "text"
      },
      "source": [
        "<a href=\"https://colab.research.google.com/github/luizdavixms/aprendizado-de-maquina/blob/main/dever2.ipynb\" target=\"_parent\"><img src=\"https://colab.research.google.com/assets/colab-badge.svg\" alt=\"Open In Colab\"/></a>"
      ]
    },
    {
      "cell_type": "code",
      "execution_count": null,
      "metadata": {
        "id": "C3soRGtCTIl7"
      },
      "outputs": [],
      "source": [
        "import re\n",
        "\n",
        "def validacaoFrase():\n",
        "    while True:\n",
        "        frase = input(\"Digite uma frase: \")\n",
        "        if frase.strip():\n",
        "            return frase\n",
        "        print(\"Entrada inválida. Tente novamente.\")\n",
        "\n",
        "def analiseFrase():\n",
        "    fraseUsuario = validacaoFrase()\n",
        "    tamanhoFrase = len(fraseUsuario)\n",
        "    limpezaPalavras = re.sub(r'[^\\w\\s]', '', fraseUsuario)\n",
        "    sepPalavras = limpezaPalavras.split()\n",
        "    contPalavras = len(sepPalavras)\n",
        "    maiorPalavra = max(sepPalavras, key=len) if sepPalavras else \"ERRO. Nenhuma palavra encontrada!\"\n",
        "\n",
        "    return fraseUsuario, tamanhoFrase, limpezaPalavras, sepPalavras, contPalavras, maiorPalavra\n",
        "\n",
        "def manipulaFrase(frase):\n",
        "  fraseCaracInvertida = limpezaPalavras[::-1]\n",
        "  frasePalavraInvertida = ' '.join(limpezaPalavras.split()[::-1])\n",
        "\n",
        "  return fraseCaracInvertida, frasePalavraInvertida\n",
        "\n",
        "tuplaPalavras = tuple(sepPalavras)\n",
        "\n",
        "fraseUsuario, tamanhoFrase, limpezaPalavras, sepPalavras, contPalavras, maiorPalavra = analiseFrase()\n",
        "\n",
        "fraseCaracInvertida, frasePalavraInvertida = manipulaFrase(fraseUsuario)\n",
        "\n",
        "print(f\"A frase '{fraseUsuario}' tem {tamanhoFrase} caracteres\")\n",
        "print(f\"a frase digitada tem {contPalavras} palavras\")\n",
        "print(f\"A maior palavra da frase é: '{maiorPalavra}'\")\n",
        "print(f\"A frase que digitou de com caracteres invertidos fica assim: {fraseCaracInvertida}\")\n",
        "print(f\"A frase que digitou com as palavras invertidas fica assim: {frasePalavraInvertida}\")\n",
        "print(f\"A frase que digitou com as letras maiusculas: {fraseUsuario.upper()}\")\n",
        "print(f\"A frase que digitou com as letras minusculas: {fraseUsuario.lower()}\")\n",
        "print(f\"A tupla das palavras {tuplaPalavras}\")\n"
      ]
    }
  ]
}