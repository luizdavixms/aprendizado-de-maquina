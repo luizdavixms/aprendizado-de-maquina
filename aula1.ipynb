{
  "nbformat": 4,
  "nbformat_minor": 0,
  "metadata": {
    "colab": {
      "provenance": [],
      "authorship_tag": "ABX9TyMJB3rBLkJuiGeIFzKUh1wW",
      "include_colab_link": true
    },
    "kernelspec": {
      "name": "python3",
      "display_name": "Python 3"
    },
    "language_info": {
      "name": "python"
    }
  },
  "cells": [
    {
      "cell_type": "markdown",
      "metadata": {
        "id": "view-in-github",
        "colab_type": "text"
      },
      "source": [
        "<a href=\"https://colab.research.google.com/github/luizdavixms/aprendizado-de-maquina/blob/develop/aula1.ipynb\" target=\"_parent\"><img src=\"https://colab.research.google.com/assets/colab-badge.svg\" alt=\"Open In Colab\"/></a>"
      ]
    },
    {
      "cell_type": "code",
      "execution_count": 13,
      "metadata": {
        "colab": {
          "base_uri": "https://localhost:8080/"
        },
        "id": "zbo_BE9RhRV_",
        "outputId": "d5356a25-63c9-4eaf-d19d-066c94a99c28"
      },
      "outputs": [
        {
          "output_type": "stream",
          "name": "stdout",
          "text": [
            "Digite um valor de 1 a 5: 0\n",
            "Por favor, insira um número entre 1 e 5.\n",
            "Digite um valor de 1 a 5: 8\n",
            "Por favor, insira um número entre 1 e 5.\n",
            "Digite um valor de 1 a 5: 1\n",
            "João Silva, 12/03/85, 24/02/2025, 14:30\n"
          ]
        }
      ],
      "source": [
        "import pandas as pd\n",
        "\n",
        "# Caminho do arquivo CSV\n",
        "caminho_arquivo = r'/content/sample_data/dados.csv'\n",
        "\n",
        "# Carregar o CSV para um DataFrame\n",
        "df = pd.read_csv(caminho_arquivo)\n",
        "\n",
        "# Função para validar a entrada do usuário\n",
        "def validarValor():\n",
        "    try:\n",
        "        i = int(input(\"Digite um valor de 1 a 5: \"))\n",
        "        if i < 1 or i > 5:\n",
        "            print(\"Por favor, insira um número entre 1 e 5.\")\n",
        "            return False, None\n",
        "        else:\n",
        "            cliente = df.iloc[i - 1]\n",
        "            return True, cliente\n",
        "    except ValueError:\n",
        "        print(\"Por favor, insira um valor válido.\")\n",
        "        return False, None\n",
        "\n",
        "# Laço de repetição até que a entrada seja válida\n",
        "while True:\n",
        "    valido, cliente = validarValor()\n",
        "    if valido:\n",
        "        break\n",
        "\n",
        "# Processamento dos dados do cliente selecionado\n",
        "nome = cliente['Nome']\n",
        "# Ajuste do formato das datas\n",
        "data_nascimento = pd.to_datetime(cliente['Data de Nascimento'], format='%d/%m/%Y').strftime('%d/%m/%y')\n",
        "data_cadastro = pd.to_datetime(cliente['Data de Cadastro'], format='%d/%m/%Y').strftime('%d/%m/%Y')\n",
        "# Corrigindo o formato da hora para incluir os segundos\n",
        "hora_cadastro = pd.to_datetime(cliente['Hora de Cadastro'], format='%H:%M:%S').strftime('%H:%M')\n",
        "\n",
        "# Exibindo os resultados\n",
        "print(f\"{nome}, {data_nascimento}, {data_cadastro}, {hora_cadastro}\")\n"
      ]
    }
  ]
}