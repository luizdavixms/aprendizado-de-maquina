{
  "nbformat": 4,
  "nbformat_minor": 0,
  "metadata": {
    "colab": {
      "provenance": [],
      "authorship_tag": "ABX9TyNHNS0TWqz0Pxv2hWNCFgBa",
      "include_colab_link": true
    },
    "kernelspec": {
      "name": "python3",
      "display_name": "Python 3"
    },
    "language_info": {
      "name": "python"
    }
  },
  "cells": [
    {
      "cell_type": "markdown",
      "metadata": {
        "id": "view-in-github",
        "colab_type": "text"
      },
      "source": [
        "<a href=\"https://colab.research.google.com/github/luizdavixms/aprendizado-de-maquina/blob/main/dever3.ipynb\" target=\"_parent\"><img src=\"https://colab.research.google.com/assets/colab-badge.svg\" alt=\"Open In Colab\"/></a>"
      ]
    },
    {
      "cell_type": "code",
      "execution_count": null,
      "metadata": {
        "id": "n-vzqPnDdNWn"
      },
      "outputs": [],
      "source": [
        "import csv\n",
        "\n",
        "dados = [\n",
        "    [\"Nome\", \"Idade\"],\n",
        "    [\"Ana\", 25],\n",
        "    [\"Bruno\", 30],\n",
        "    [\"Carla\", 22],\n",
        "    [\"Daniel\", 28],\n",
        "    [\"Eduardo\", 35]\n",
        "]\n",
        "\n",
        "with open('dados.csv', mode='w', newline='') as file:\n",
        "    writer = csv.writer(file)\n",
        "    writer.writerows(dados)\n",
        "\n",
        "print(\"Arquivo 'dados.csv' criado com sucesso.\")\n",
        "\n",
        "import csv\n",
        "\n",
        "with open('dados.csv', mode='r') as file:\n",
        "    reader = csv.reader(file)\n",
        "    dados = list(reader)[1:]\n",
        "\n",
        "nome = input(\"Digite um nome: \")\n",
        "\n",
        "pessoa_encontrada = None\n",
        "for nome_pessoa, idade in dados:\n",
        "    if nome_pessoa.lower() == nome.lower():\n",
        "        pessoa_encontrada = (nome_pessoa, int(idade))\n",
        "        break\n",
        "\n",
        "if pessoa_encontrada:\n",
        "    nome_pessoa, idade = pessoa_encontrada\n",
        "    idade_maxima = max([int(idade) for _, idade in dados])\n",
        "    if idade == idade_maxima:\n",
        "        print(f\"{nome_pessoa} tem {idade} anos, é a pessoa mais velha da lista.\")\n",
        "    else:\n",
        "        print(f\"{nome_pessoa} tem {idade} anos, não é a pessoa mais velha da lista.\")\n",
        "else:\n",
        "    print(\"Nome não encontrado.\")\n",
        "\n"
      ]
    }
  ]
}